{
  "nbformat": 4,
  "nbformat_minor": 0,
  "metadata": {
    "colab": {
      "provenance": [],
      "authorship_tag": "ABX9TyOE6jWP7PyaHuFglsAEdnfz",
      "include_colab_link": true
    },
    "kernelspec": {
      "name": "python3",
      "display_name": "Python 3"
    },
    "language_info": {
      "name": "python"
    }
  },
  "cells": [
    {
      "cell_type": "markdown",
      "metadata": {
        "id": "view-in-github",
        "colab_type": "text"
      },
      "source": [
        "<a href=\"https://colab.research.google.com/github/jemimaprins99/pythonIntro/blob/Jemima's-Edits/helloWorld_etc.ipynb\" target=\"_parent\"><img src=\"https://colab.research.google.com/assets/colab-badge.svg\" alt=\"Open In Colab\"/></a>"
      ]
    },
    {
      "cell_type": "code",
      "execution_count": null,
      "metadata": {
        "colab": {
          "base_uri": "https://localhost:8080/"
        },
        "id": "d2LteNmwM97i",
        "outputId": "b444275f-c0bf-4f6b-cdf4-898ef93c43e2"
      },
      "outputs": [
        {
          "output_type": "stream",
          "name": "stdout",
          "text": [
            "hello world\n"
          ]
        }
      ],
      "source": [
        "print(\"hello world\")"
      ]
    },
    {
      "cell_type": "markdown",
      "source": [
        "Import Python Packages Here\n"
      ],
      "metadata": {
        "id": "xSfNm_sZTnfJ"
      }
    },
    {
      "cell_type": "code",
      "source": [
        "import numpy as np\n",
        "\n",
        "#install pandas here\n",
        "\n",
        "#install another interesting package here"
      ],
      "metadata": {
        "id": "Rj-R8GXnT9si"
      },
      "execution_count": null,
      "outputs": []
    },
    {
      "cell_type": "markdown",
      "source": [
        "Lets do some basic maths here."
      ],
      "metadata": {
        "id": "4qbwuv_RUL5t"
      }
    },
    {
      "cell_type": "code",
      "source": [
        "x = 1+1\n",
        "print(x)"
      ],
      "metadata": {
        "colab": {
          "base_uri": "https://localhost:8080/"
        },
        "id": "MWi1WvhQUPGs",
        "outputId": "456cf2e1-325e-4f2f-9143-3a5fdf95822d"
      },
      "execution_count": null,
      "outputs": [
        {
          "output_type": "stream",
          "name": "stdout",
          "text": [
            "2\n"
          ]
        }
      ]
    },
    {
      "cell_type": "markdown",
      "source": [
        "Now lets write a function with inputs and outputs"
      ],
      "metadata": {
        "id": "IeBo-iHjVgUe"
      }
    },
    {
      "cell_type": "code",
      "source": [
        "def my_function_name(input1, input2, input3):\n",
        "  x = (input1 + (input2*input3))\n",
        "  return x\n"
      ],
      "metadata": {
        "id": "Hpt6mSSbVyhz"
      },
      "execution_count": null,
      "outputs": []
    },
    {
      "cell_type": "code",
      "source": [
        "#Now lets call the above function\n",
        "myfavnumber = my_function_name(2,3,4)\n",
        "print(myfavnumber)"
      ],
      "metadata": {
        "colab": {
          "base_uri": "https://localhost:8080/"
        },
        "id": "ZUl3t_uoWLjK",
        "outputId": "1f9945a7-9eef-49f1-9949-ef353492c9ca"
      },
      "execution_count": null,
      "outputs": [
        {
          "output_type": "stream",
          "name": "stdout",
          "text": [
            "14\n"
          ]
        }
      ]
    },
    {
      "cell_type": "markdown",
      "source": [
        "Here is how to upload a csv file"
      ],
      "metadata": {
        "id": "Zr2kXTMjWo0y"
      }
    },
    {
      "cell_type": "code",
      "source": [
        "#Code to upload a csv file"
      ],
      "metadata": {
        "id": "kjipNwxfTXJ6"
      },
      "execution_count": null,
      "outputs": []
    },
    {
      "cell_type": "markdown",
      "source": [
        "Lets try to automate fall arrest system"
      ],
      "metadata": {
        "id": "JSTftQJcRcc_"
      }
    },
    {
      "cell_type": "markdown",
      "source": [
        "Sia - Create and upload bolt/rivet/screw table with name,diamter,shearstrength, head size"
      ],
      "metadata": {
        "id": "pPAx6ICBTmzL"
      }
    },
    {
      "cell_type": "code",
      "source": [
        "#Sia Code Here\n"
      ],
      "metadata": {
        "id": "Rn3N1Tp5T9ai"
      },
      "execution_count": null,
      "outputs": []
    },
    {
      "cell_type": "markdown",
      "source": [
        "Chris - Create function\n",
        "Input: Name of screw - from a set list\n",
        "Output: Diameter, Shear Strength, Head Size"
      ],
      "metadata": {
        "id": "xDGHMMBIUAKU"
      }
    },
    {
      "cell_type": "code",
      "source": [
        "#Chris Code here"
      ],
      "metadata": {
        "id": "RlUncZ17UF0L"
      },
      "execution_count": null,
      "outputs": []
    },
    {
      "cell_type": "markdown",
      "source": [
        "Harley - Create anchor capacity function\n",
        "Inputs: restraint type, number of persons per restraint, anchor type, number rivet in shear\n",
        "Outputs: load requirement, fall situation, dimaeter, supplier shear capcity, shear per anchor, total shear capacity, outcome (T/F)"
      ],
      "metadata": {
        "id": "VsXrEdaFUU5B"
      }
    },
    {
      "cell_type": "code",
      "source": [
        "#Harley Code here"
      ],
      "metadata": {
        "id": "8YvjW_9rWJa6"
      },
      "execution_count": null,
      "outputs": []
    },
    {
      "cell_type": "markdown",
      "source": [
        "MJ - AS/NZS 4600 Bearing\n",
        "Inputs: t_2, f_u2, phi\n",
        "Output: T/F\n",
        "\n"
      ],
      "metadata": {
        "id": "BN5Jwqa7WLu9"
      }
    },
    {
      "cell_type": "code",
      "source": [
        "#MJ Code here"
      ],
      "metadata": {
        "id": "LLRzaYOrXFzy"
      },
      "execution_count": null,
      "outputs": []
    },
    {
      "cell_type": "markdown",
      "source": [
        "Devante - Anchor sheet pullout\n",
        "Inputs: vertical offset, anchor spacing\n",
        "Outputs:"
      ],
      "metadata": {
        "id": "fKn1Ecs0XI7s"
      }
    },
    {
      "cell_type": "markdown",
      "source": [
        "I am addingt his bit of text to see how it impacts github."
      ],
      "metadata": {
        "id": "Morr4ggArYk5"
      }
    }
  ]
}